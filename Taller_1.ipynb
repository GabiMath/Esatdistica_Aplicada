{
  "nbformat": 4,
  "nbformat_minor": 0,
  "metadata": {
    "colab": {
      "name": "Taller_1.ipynb",
      "provenance": [],
      "collapsed_sections": [],
      "authorship_tag": "ABX9TyPde/m0IR30JMt35q4LL6kL",
      "include_colab_link": true
    },
    "kernelspec": {
      "name": "python3",
      "display_name": "Python 3"
    }
  },
  "cells": [
    {
      "cell_type": "markdown",
      "metadata": {
        "id": "view-in-github",
        "colab_type": "text"
      },
      "source": [
        "<a href=\"https://colab.research.google.com/github/chsanabriam/Esatdistica_Aplicada/blob/master/Taller_1.ipynb\" target=\"_parent\"><img src=\"https://colab.research.google.com/assets/colab-badge.svg\" alt=\"Open In Colab\"/></a>"
      ]
    },
    {
      "cell_type": "markdown",
      "metadata": {
        "id": "f6dFpJXs2R1O",
        "colab_type": "text"
      },
      "source": [
        "# Taller 1\n",
        "## Punto 1\n",
        "Escriba un programa que simule el juego Piedra, papel, tijera para dos jugadores (Inés y Juan).\n",
        "\n",
        "Las reglas del juego son las siguientes:\n",
        "\n",
        "1.) Simultáneamente, los dos jugadores muestran una mano en tres posibles posiciones:\n",
        "  * Piedra: se muestra el puño cerrado.\n",
        "  * Papel: se muestra la palma de la mano.\n",
        "  * Tijera: se muestra la palma de la mano con los dedos separados en dos grupos.\n",
        "\n",
        "2.) El jugador que ha sacado Piedra gana al jugador que ha sacado Tijera.\n",
        "\n",
        "3.) El jugador que ha sacado Tijera gana al jugador que ha sacado Papel.\n",
        "\n",
        "4.) El jugador que ha sacado Papel gana al jugador que ha sacado Piedra.\n",
        "\n",
        "**Nota:** Investige sobre la libreria ramdom."
      ]
    },
    {
      "cell_type": "code",
      "metadata": {
        "id": "m_yK6PHS18lr",
        "colab_type": "code",
        "colab": {}
      },
      "source": [
        ""
      ],
      "execution_count": null,
      "outputs": []
    },
    {
      "cell_type": "markdown",
      "metadata": {
        "id": "MBJgau355Fdy",
        "colab_type": "text"
      },
      "source": [
        "# Punto 2\n",
        "Generar una matriz de 7 por 9. Las primeras 3 columnas de la matriz tienen que tener el valor 0. \n",
        "\n",
        "La cuarta columna debe tener el valor 0.5, excepto por el último valor de esa columna, que tiene que ser 0.7.\n",
        "\n",
        "Las otras tres columnas deben tener el valor 1.\n",
        "\n",
        "* Luego imprimir la matriz\n",
        "* Imprimir también el promedio de la ultima fila."
      ]
    },
    {
      "cell_type": "code",
      "metadata": {
        "id": "qRoMq-j_2wVg",
        "colab_type": "code",
        "colab": {}
      },
      "source": [
        ""
      ],
      "execution_count": null,
      "outputs": []
    },
    {
      "cell_type": "markdown",
      "metadata": {
        "id": "6Wj88Sgc5n0K",
        "colab_type": "text"
      },
      "source": [
        "# Punto 3\n",
        "La siguiente linea crea una matriz aleatoria de 5 por 5 con valores entre 0 y 1\n",
        "\n",
        "```\n",
        "matriz_aleatoria=np.random.rand(5,5) \n",
        "print(matriz_aleatoria)\n",
        "```\n",
        "\n",
        "Imprimir las posiciones (Fila y columna) de los elementos de la matriz que son mayores que 0.5\n"
      ]
    },
    {
      "cell_type": "code",
      "metadata": {
        "id": "uMoZEStT59dK",
        "colab_type": "code",
        "colab": {}
      },
      "source": [
        ""
      ],
      "execution_count": null,
      "outputs": []
    }
  ]
}