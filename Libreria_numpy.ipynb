{
  "nbformat": 4,
  "nbformat_minor": 0,
  "metadata": {
    "colab": {
      "name": "Libreria_numpy.ipynb",
      "provenance": [],
      "authorship_tag": "ABX9TyOaHlA7bXhdYiWv6eUnRHFp",
      "include_colab_link": true
    },
    "kernelspec": {
      "name": "python3",
      "display_name": "Python 3"
    }
  },
  "cells": [
    {
      "cell_type": "markdown",
      "metadata": {
        "id": "view-in-github",
        "colab_type": "text"
      },
      "source": [
        "<a href=\"https://colab.research.google.com/github/chsanabriam/Esatdistica_Aplicada/blob/master/Libreria_numpy.ipynb\" target=\"_parent\"><img src=\"https://colab.research.google.com/assets/colab-badge.svg\" alt=\"Open In Colab\"/></a>"
      ]
    },
    {
      "cell_type": "markdown",
      "metadata": {
        "id": "nrpL1I3OUC0l",
        "colab_type": "text"
      },
      "source": [
        "# Introdución a la libreria numpy\n",
        "\n",
        "NumPy es una librería de Python especializada en el cálculo numérico y el análisis de datos, especialmente para un gran volumen de datos.\n",
        "\n",
        "Incorpora una nueva clase de objetos llamados arrays que permite representar colecciones de datos de un mismo tipo en varias dimensiones, y funciones muy eficientes para su manipulación.\n",
        "\n",
        "Para comenzar a usar numpy, se debe importar la librería. En este caso la vamos a importar, y darle un sobrenombre al mismo tiempo, **np**, para que el código sea más legible"
      ]
    },
    {
      "cell_type": "code",
      "metadata": {
        "id": "MTenX-LlT9E_",
        "colab_type": "code",
        "colab": {}
      },
      "source": [
        "# importamos la librería numpy, y le damos como nombre np dentro del programa\n",
        "import numpy as np"
      ],
      "execution_count": null,
      "outputs": []
    },
    {
      "cell_type": "markdown",
      "metadata": {
        "id": "ZOZARWh2UpjA",
        "colab_type": "text"
      },
      "source": [
        "Ahora que tenemos la librería, empecemos creando un vector de 5 elementos.\n",
        "\n",
        "La manera más común de crear una un vector o matriz ya inicializada es con la función np.array, que toma una lista (o lista de listas) como parámetro y devuelve una matriz de numpy."
      ]
    },
    {
      "cell_type": "code",
      "metadata": {
        "id": "mtPy5hjjUChl",
        "colab_type": "code",
        "colab": {
          "base_uri": "https://localhost:8080/",
          "height": 34
        },
        "outputId": "bc1f2373-7c8d-46e4-c536-88109ab1b91e"
      },
      "source": [
        "lista=[25,12,15,66,12.5]\n",
        "vector=np.array(lista)\n",
        "print(vector)"
      ],
      "execution_count": null,
      "outputs": [
        {
          "output_type": "stream",
          "text": [
            "[25.  12.  15.  66.  12.5]\n"
          ],
          "name": "stdout"
        }
      ]
    },
    {
      "cell_type": "markdown",
      "metadata": {
        "id": "QnA518JyZfm7",
        "colab_type": "text"
      },
      "source": [
        "Un vector (a diferencia de una lista), al ser un arreglo de numpy, nos permite hacer varias operaciones matemáticas de forma muy simple."
      ]
    },
    {
      "cell_type": "code",
      "metadata": {
        "id": "b-OOqPF9Ux9o",
        "colab_type": "code",
        "colab": {
          "base_uri": "https://localhost:8080/",
          "height": 84
        },
        "outputId": "dc04c303-f68b-4506-a353-b11872a33c10"
      },
      "source": [
        "print(\"- sumarle 1 a cada elemento del vector:\")\n",
        "print(vector+1)\n",
        "print(\"- multiplicar por 5 cada elemento del vector:\")\n",
        "print(vector*5)"
      ],
      "execution_count": null,
      "outputs": [
        {
          "output_type": "stream",
          "text": [
            "- sumarle 1 a cada elemento del vector:\n",
            "[26.  13.  16.  67.  13.5]\n",
            "- multiplicar por 5 cada elemento del vector:\n",
            "[125.   60.   75.  330.   62.5]\n"
          ],
          "name": "stdout"
        }
      ]
    },
    {
      "cell_type": "code",
      "metadata": {
        "id": "mz0k5MchWYM9",
        "colab_type": "code",
        "colab": {
          "base_uri": "https://localhost:8080/",
          "height": 50
        },
        "outputId": "05b19e29-c400-4b7d-8065-6e9c45c61aff"
      },
      "source": [
        "print(\"- suma de los elementos:\")\n",
        "print(np.sum(vector))"
      ],
      "execution_count": null,
      "outputs": [
        {
          "output_type": "stream",
          "text": [
            "- suma de los elementos:\n",
            "130.5\n"
          ],
          "name": "stdout"
        }
      ]
    },
    {
      "cell_type": "code",
      "metadata": {
        "id": "vNgb8Zw0Z-jI",
        "colab_type": "code",
        "colab": {
          "base_uri": "https://localhost:8080/",
          "height": 50
        },
        "outputId": "6799f9f6-018f-479d-ba33-d0f39d45f8ba"
      },
      "source": [
        "print(\"- promedio (media) de los elementos:\")\n",
        "print(np.mean(vector)) # "
      ],
      "execution_count": null,
      "outputs": [
        {
          "output_type": "stream",
          "text": [
            "- promedio (media) de los elementos:\n",
            "26.1\n"
          ],
          "name": "stdout"
        }
      ]
    },
    {
      "cell_type": "code",
      "metadata": {
        "id": "zhsJNBMIaG4W",
        "colab_type": "code",
        "colab": {
          "base_uri": "https://localhost:8080/",
          "height": 84
        },
        "outputId": "9562eee5-e156-4414-82fb-ec8b17774e8d"
      },
      "source": [
        "print(\"- el vector sumado a si mismo:\")\n",
        "print(vector+vector)\n",
        "print(\"- suma de vectores vector1 y vector2 (mismo tamaño):\")\n",
        "vector2=np.array([11,55,1.2,7.4,-8])\n",
        "print(vector+vector2)"
      ],
      "execution_count": null,
      "outputs": [
        {
          "output_type": "stream",
          "text": [
            "- el vector sumado a si mismo:\n",
            "[ 50.  24.  30. 132.  25.]\n",
            "- suma de vectores vector1 y vector2 (mismo tamaño):\n",
            "[36.  67.  16.2 73.4  4.5]\n"
          ],
          "name": "stdout"
        }
      ]
    },
    {
      "cell_type": "markdown",
      "metadata": {
        "id": "brVtvOpHaO-u",
        "colab_type": "text"
      },
      "source": [
        "## Índices y Slices de vectores\n",
        "Así como con las listas, se utilizan los corchetes ([ ]) para acceder a sus elementos, y se pueden tomar slices o rebanadas del arreglo utilizando **:**\n",
        "\n",
        "Nota: Los elementos de un vector empiezan en la posición 0"
      ]
    },
    {
      "cell_type": "code",
      "metadata": {
        "id": "JaED2PoSaczC",
        "colab_type": "code",
        "colab": {}
      },
      "source": [
        "print(vector[3]) # imprime el elemnto ubicado en la posición 3 del vector\n",
        "print(vector[1:4]) # imprime los elementos desde la posición 1 hasta la 3\n",
        "print(vector[1:]) # imprime todos los elementos desde la posición 1\n",
        "print(vector[:4]) # imprime todos los elementos hasta la posición 3\n",
        "print(vector[:]) # imprime todos los elementos similar a print(vector)"
      ],
      "execution_count": null,
      "outputs": []
    },
    {
      "cell_type": "markdown",
      "metadata": {
        "id": "S4ScROcbbbVc",
        "colab_type": "text"
      },
      "source": [
        "##Creación de vectores con valor 0 o 1\n",
        "Es muy común crear un vector con valores 0 o 1. Por ejemplo, cuando se utiliza un vector de contadores, donde cada contador comienza en 0.\n",
        "\n",
        "Para ello, se utiliza las funciones np.zeros y np.ones, respectivamente. Cada una toma como parámetro la cantidad de elementos del vector a crear."
      ]
    },
    {
      "cell_type": "code",
      "metadata": {
        "id": "fiSrt3LRbnyB",
        "colab_type": "code",
        "colab": {
          "base_uri": "https://localhost:8080/",
          "height": 151
        },
        "outputId": "d0bee9a3-a5a7-49d6-d40f-3f26d64db943"
      },
      "source": [
        "print(\"- Vector de ceros:\")\n",
        "vector_ceros=np.zeros(5)\n",
        "print(vector_ceros)\n",
        "\n",
        "print(\"- Vector de unos:\")\n",
        "vector_unos=np.ones(5)\n",
        "print(vector_unos)\n",
        "\n",
        "\n",
        "#Combinando este tipo de creaciones con las operaciones aritméticas,\n",
        "#podemos hacer varias inicializaciones muy rápidamente\n",
        "# Por ejemplo, para crear un vector cuyos valores iniciales son todos 2.\n",
        "\n",
        "print(\"- Vector con todos los elementos con valor 2:\")\n",
        "vector_dos=np.zeros(5)+2\n",
        "print(vector_dos)\n",
        "\n",
        "print(\"- Vector con todos los elementos con valor 2 (otra forma):\")\n",
        "vector_dos_otro=np.ones(5)*2\n",
        "print(vector_dos_otro)"
      ],
      "execution_count": null,
      "outputs": [
        {
          "output_type": "stream",
          "text": [
            "- Vector de ceros:\n",
            "[0. 0. 0. 0. 0.]\n",
            "- Vector de unos:\n",
            "[1. 1. 1. 1. 1.]\n",
            "- Vector con todos los elementos con valor 2:\n",
            "[2. 2. 2. 2. 2.]\n",
            "- Vector con todos los elementos con valor 2 (otra forma):\n",
            "[2. 2. 2. 2. 2.]\n"
          ],
          "name": "stdout"
        }
      ]
    },
    {
      "cell_type": "markdown",
      "metadata": {
        "id": "tSRhUNCMcQ7L",
        "colab_type": "text"
      },
      "source": [
        "##Matrices\n",
        "Los vectores son arreglos de una sola dimensión. Las matrices son arreglos de dos dimensiones; generalmente a la primera dimensión se la llama la de las filas, mientras que a la otra se la llama la de las columnas.\n",
        "\n",
        "Por ende, para crearlas con np.array, necesitamos no una lista de valores, sino una lista de valores por cada fila, o sea, una lista de listas.\n",
        "\n",
        "Del mismo modo, para crearlas con np.zeros o np.ones, vamos a necesitar una **tupla** con **dos** elementos, uno por cada dimensión."
      ]
    },
    {
      "cell_type": "code",
      "metadata": {
        "id": "AaSMLX3FcdZv",
        "colab_type": "code",
        "colab": {
          "base_uri": "https://localhost:8080/",
          "height": 269
        },
        "outputId": "6cd331bc-3948-410c-83f6-601928f47a3b"
      },
      "source": [
        "print(\"- Matriz creada con una lista de listas:\")\n",
        "lista_de_listas=[ [1  ,-4], \n",
        "                  [12 , 3], \n",
        "                  [7.2, 5]]\n",
        "matriz = np.array(lista_de_listas)\n",
        "print(matriz)\n",
        "\n",
        "\n",
        "print(\"- Matriz creada con np.zeros:\")\n",
        "dimensiones=(2,3)\n",
        "matriz_ceros = np.zeros(dimensiones)\n",
        "print(matriz_ceros)\n",
        "\n",
        "\n",
        "print(\"- Matriz creada con np.ones:\")\n",
        "dimensiones=(3,2)\n",
        "matriz_unos = np.ones(dimensiones)\n",
        "print(matriz_unos)\n",
        "\n",
        "#también podemos usar np.copy para copiar una matriz \n",
        "print(\"- Copia de la matriz creada con np.ones:\")\n",
        "matriz_unos_copia=np.copy(matriz_unos)\n",
        "print(matriz_unos_copia)"
      ],
      "execution_count": null,
      "outputs": [
        {
          "output_type": "stream",
          "text": [
            "- Matriz creada con una lista de listas:\n",
            "[[ 1.  -4. ]\n",
            " [12.   3. ]\n",
            " [ 7.2  5. ]]\n",
            "- Matriz creada con np.zeros:\n",
            "[[0. 0. 0.]\n",
            " [0. 0. 0.]]\n",
            "- Matriz creada con np.ones:\n",
            "[[1. 1.]\n",
            " [1. 1.]\n",
            " [1. 1.]]\n",
            "- Copia de la matriz creada con np.ones:\n",
            "[[1. 1.]\n",
            " [1. 1.]\n",
            " [1. 1.]]\n"
          ],
          "name": "stdout"
        }
      ]
    },
    {
      "cell_type": "markdown",
      "metadata": {
        "id": "rd8-C1Pdctdi",
        "colab_type": "text"
      },
      "source": [
        "###Ejercicio\n",
        "Crear una matriz de 4x9, que esté inicializada con el valor 0.5\n"
      ]
    },
    {
      "cell_type": "code",
      "metadata": {
        "id": "VBZYFvsPcyNL",
        "colab_type": "code",
        "colab": {}
      },
      "source": [
        "# Ingrese su código aquí\n"
      ],
      "execution_count": null,
      "outputs": []
    },
    {
      "cell_type": "code",
      "metadata": {
        "id": "FqzsXcEGdCn_",
        "colab_type": "code",
        "colab": {
          "base_uri": "https://localhost:8080/",
          "height": 84
        },
        "outputId": "ac9225d6-580d-47c4-aa57-e53921e285f6"
      },
      "source": [
        "print(matriz)"
      ],
      "execution_count": null,
      "outputs": [
        {
          "output_type": "stream",
          "text": [
            "[[0.5 0.5 0.5 0.5 0.5 0.5 0.5 0.5 0.5]\n",
            " [0.5 0.5 0.5 0.5 0.5 0.5 0.5 0.5 0.5]\n",
            " [0.5 0.5 0.5 0.5 0.5 0.5 0.5 0.5 0.5]\n",
            " [0.5 0.5 0.5 0.5 0.5 0.5 0.5 0.5 0.5]]\n"
          ],
          "name": "stdout"
        }
      ]
    },
    {
      "cell_type": "markdown",
      "metadata": {
        "id": "V6xBmW9kdVcn",
        "colab_type": "text"
      },
      "source": [
        "###Accediendo a las matrices\n",
        "También podemos usar slices para acceder a partes de las matrices. Las matrices tienen dos dimensiones, así que ahora tenemos que usar dos indices o slices para seleccionar partes."
      ]
    },
    {
      "cell_type": "code",
      "metadata": {
        "id": "_046azCldfaK",
        "colab_type": "code",
        "colab": {
          "base_uri": "https://localhost:8080/",
          "height": 235
        },
        "outputId": "264af45c-0909-4b42-80bd-544a5181d2e8"
      },
      "source": [
        "lista_de_listas=[ [1  ,-4], \n",
        "                  [12 , 3], \n",
        "                  [7.2, 5]]\n",
        "a = np.array(lista_de_listas)\n",
        "\n",
        "print(\"Elementos individuales\")\n",
        "print(a[0,1])\n",
        "print(a[2,1])\n",
        "\n",
        "print(\"Vector de elementos de la fila 1\")\n",
        "print(a[1,:])\n",
        "\n",
        "print(\"Vector de elementos de la columna 0\")\n",
        "print(a[:,0])\n",
        "\n",
        "print(\"Submatriz de 2x2 con las primeras dos filas\")\n",
        "print(a[0:2,:])\n",
        "\n",
        "print(\"Submatriz de 2x2 con las ultimas dos filas\")\n",
        "print(a[1:3,:])"
      ],
      "execution_count": null,
      "outputs": [
        {
          "output_type": "stream",
          "text": [
            "Elementos individuales\n",
            "-4.0\n",
            "5.0\n",
            "Vector de elementos de la fila 1\n",
            "[12.  3.]\n",
            "Vector de elementos de la columna 0\n",
            "[ 1.  12.   7.2]\n",
            "Submatriz de 2x2 con las primeras dos filas\n",
            "[[ 1. -4.]\n",
            " [12.  3.]]\n",
            "Submatriz de 2x2 con las ultimas dos filas\n",
            "[[12.   3. ]\n",
            " [ 7.2  5. ]]\n"
          ],
          "name": "stdout"
        }
      ]
    },
    {
      "cell_type": "markdown",
      "metadata": {
        "id": "YkzyjyJfd5rv",
        "colab_type": "text"
      },
      "source": [
        "###Modificando matrices\n",
        "También podemos usar los slices para modificar matrices. La única diferencia es que ahora los usaremos para seleccionar que parte de la matriz vamos a cambiar."
      ]
    },
    {
      "cell_type": "code",
      "metadata": {
        "id": "Qrc3BxAzhg2-",
        "colab_type": "code",
        "colab": {
          "base_uri": "https://localhost:8080/",
          "height": 353
        },
        "outputId": "141880ea-3ed2-475e-c3f1-29c27547cbeb"
      },
      "source": [
        "lista_de_listas=[ [1,-4], \n",
        "                  [12,3], \n",
        "                  [7, 5.0]]\n",
        "a = np.array(lista_de_listas)\n",
        "\n",
        "print(\"- Matriz original:\")\n",
        "print(a)\n",
        "\n",
        "print(\"- Le asignamos el valor 4 a los elementos de la columna 0:\")\n",
        "a[:,0]=4\n",
        "print(a)\n",
        "\n",
        "\n",
        "print(\"- Dividimos por 3 la columna 1:\")\n",
        "a[:,1]=a[:,1]/3.0\n",
        "print(a)\n",
        "\n",
        "print(\"- Multiplicamos por 5 la fila 1:\")\n",
        "a[1,:]=a[1,:]*5\n",
        "print(a)\n",
        "\n",
        "print(\"- Le sumamos 1 a toda la matriz:\")\n",
        "a=a+1\n",
        "print(a)"
      ],
      "execution_count": null,
      "outputs": [
        {
          "output_type": "stream",
          "text": [
            "- Matriz original:\n",
            "[[ 1. -4.]\n",
            " [12.  3.]\n",
            " [ 7.  5.]]\n",
            "- Le asignamos el valor 4 a los elementos de la columna 0:\n",
            "[[ 4. -4.]\n",
            " [ 4.  3.]\n",
            " [ 4.  5.]]\n",
            "- Dividimos por 3 la columna 1:\n",
            "[[ 4.         -1.33333333]\n",
            " [ 4.          1.        ]\n",
            " [ 4.          1.66666667]]\n",
            "- Multiplicamos por 5 la fila 1:\n",
            "[[ 4.         -1.33333333]\n",
            " [20.          5.        ]\n",
            " [ 4.          1.66666667]]\n",
            "- Le sumamos 1 a toda la matriz:\n",
            "[[ 5.         -0.33333333]\n",
            " [21.          6.        ]\n",
            " [ 5.          2.66666667]]\n"
          ],
          "name": "stdout"
        }
      ]
    },
    {
      "cell_type": "markdown",
      "metadata": {
        "id": "U2B8n3Rlh8gO",
        "colab_type": "text"
      },
      "source": [
        "##Ejercicios\n",
        "\n",
        "Tomando la siguiente matriz"
      ]
    },
    {
      "cell_type": "code",
      "metadata": {
        "id": "PH8vzkjUkIX9",
        "colab_type": "code",
        "colab": {}
      },
      "source": [
        "lista_de_listas=[ [-44,12], \n",
        "                  [12.0,51], \n",
        "                  [1300, -5.0]]\n",
        "a = np.array(lista_de_listas)"
      ],
      "execution_count": null,
      "outputs": []
    },
    {
      "cell_type": "markdown",
      "metadata": {
        "id": "6Gqb6cWzkMNN",
        "colab_type": "text"
      },
      "source": [
        "* Restarle 5 a la fila 2 de la matriz"
      ]
    },
    {
      "cell_type": "code",
      "metadata": {
        "id": "v3hGnjAOw-Ul",
        "colab_type": "code",
        "colab": {}
      },
      "source": [
        ""
      ],
      "execution_count": null,
      "outputs": []
    },
    {
      "cell_type": "markdown",
      "metadata": {
        "id": "vDS2NnWGw_bA",
        "colab_type": "text"
      },
      "source": [
        "* Multiplicar por 2 toda la matriz"
      ]
    },
    {
      "cell_type": "code",
      "metadata": {
        "id": "aBkJcM0L1Mzh",
        "colab_type": "code",
        "colab": {}
      },
      "source": [
        ""
      ],
      "execution_count": null,
      "outputs": []
    },
    {
      "cell_type": "markdown",
      "metadata": {
        "id": "UlOBBRbR1NMN",
        "colab_type": "text"
      },
      "source": [
        "* Dividir por -5 las dos primeras filas de la matriz"
      ]
    },
    {
      "cell_type": "code",
      "metadata": {
        "id": "eAziX1VX1TTe",
        "colab_type": "code",
        "colab": {}
      },
      "source": [
        ""
      ],
      "execution_count": null,
      "outputs": []
    },
    {
      "cell_type": "markdown",
      "metadata": {
        "id": "GHRQ4y1U1TuP",
        "colab_type": "text"
      },
      "source": [
        "* Imprimir la ultima fila de la matriz"
      ]
    },
    {
      "cell_type": "code",
      "metadata": {
        "id": "JIpYl06d1ZFj",
        "colab_type": "code",
        "colab": {}
      },
      "source": [
        ""
      ],
      "execution_count": null,
      "outputs": []
    },
    {
      "cell_type": "markdown",
      "metadata": {
        "id": "3Kw_vKZVV5NZ",
        "colab_type": "text"
      },
      "source": [
        "## Referencias\n",
        "* https://numpy.org/devdocs/user/quickstart.html\n",
        "* http://facundoq.github.io/courses/images/res/03_numpy.html"
      ]
    }
  ]
}